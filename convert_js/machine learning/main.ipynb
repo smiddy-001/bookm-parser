{
 "cells": [
  {
   "attachments": {},
   "cell_type": "markdown",
   "metadata": {},
   "source": [
    "## Importing External Libraries"
   ]
  },
  {
   "cell_type": "code",
   "execution_count": 1,
   "metadata": {},
   "outputs": [],
   "source": [
    "import pandas as pd\n",
    "import numpy as np\n",
    "import matplotlib.pyplot as plt\n",
    "import matplotlib"
   ]
  },
  {
   "attachments": {},
   "cell_type": "markdown",
   "metadata": {},
   "source": [
    "## Importing Data From CSV"
   ]
  },
  {
   "cell_type": "code",
   "execution_count": 2,
   "metadata": {},
   "outputs": [],
   "source": [
    "imported_data = open('data.csv', 'r')\n",
    "\n",
    "df = pd.DataFrame(data=imported_data)"
   ]
  },
  {
   "attachments": {},
   "cell_type": "markdown",
   "metadata": {},
   "source": [
    "*Testing*"
   ]
  },
  {
   "cell_type": "code",
   "execution_count": 3,
   "metadata": {},
   "outputs": [
    {
     "data": {
      "text/html": [
       "<div>\n",
       "<style scoped>\n",
       "    .dataframe tbody tr th:only-of-type {\n",
       "        vertical-align: middle;\n",
       "    }\n",
       "\n",
       "    .dataframe tbody tr th {\n",
       "        vertical-align: top;\n",
       "    }\n",
       "\n",
       "    .dataframe thead th {\n",
       "        text-align: right;\n",
       "    }\n",
       "</style>\n",
       "<table border=\"1\" class=\"dataframe\">\n",
       "  <thead>\n",
       "    <tr style=\"text-align: right;\">\n",
       "      <th></th>\n",
       "      <th>0</th>\n",
       "    </tr>\n",
       "  </thead>\n",
       "  <tbody>\n",
       "    <tr>\n",
       "      <th>0</th>\n",
       "      <td>1,http://www.liquidgeneration.com/,Adult\\n</td>\n",
       "    </tr>\n",
       "    <tr>\n",
       "      <th>1</th>\n",
       "      <td>2,http://www.onlineanime.org/,Adult\\n</td>\n",
       "    </tr>\n",
       "    <tr>\n",
       "      <th>2</th>\n",
       "      <td>3,http://www.ceres.dti.ne.jp/~nekoi/senno/senf...</td>\n",
       "    </tr>\n",
       "    <tr>\n",
       "      <th>3</th>\n",
       "      <td>4,http://www.galeon.com/kmh/,Adult\\n</td>\n",
       "    </tr>\n",
       "    <tr>\n",
       "      <th>4</th>\n",
       "      <td>5,http://www.fanworkrecs.com/,Adult\\n</td>\n",
       "    </tr>\n",
       "  </tbody>\n",
       "</table>\n",
       "</div>"
      ],
      "text/plain": [
       "                                                   0\n",
       "0         1,http://www.liquidgeneration.com/,Adult\\n\n",
       "1              2,http://www.onlineanime.org/,Adult\\n\n",
       "2  3,http://www.ceres.dti.ne.jp/~nekoi/senno/senf...\n",
       "3               4,http://www.galeon.com/kmh/,Adult\\n\n",
       "4              5,http://www.fanworkrecs.com/,Adult\\n"
      ]
     },
     "execution_count": 3,
     "metadata": {},
     "output_type": "execute_result"
    }
   ],
   "source": [
    "df.head()"
   ]
  },
  {
   "cell_type": "code",
   "execution_count": 6,
   "metadata": {},
   "outputs": [
    {
     "data": {
      "text/html": [
       "<div>\n",
       "<style scoped>\n",
       "    .dataframe tbody tr th:only-of-type {\n",
       "        vertical-align: middle;\n",
       "    }\n",
       "\n",
       "    .dataframe tbody tr th {\n",
       "        vertical-align: top;\n",
       "    }\n",
       "\n",
       "    .dataframe thead th {\n",
       "        text-align: right;\n",
       "    }\n",
       "</style>\n",
       "<table border=\"1\" class=\"dataframe\">\n",
       "  <thead>\n",
       "    <tr style=\"text-align: right;\">\n",
       "      <th></th>\n",
       "      <th>0</th>\n",
       "    </tr>\n",
       "  </thead>\n",
       "  <tbody>\n",
       "    <tr>\n",
       "      <th>1384232</th>\n",
       "      <td>1384233,http://members.tripod.com/rosaryarmy/i...</td>\n",
       "    </tr>\n",
       "    <tr>\n",
       "      <th>199632</th>\n",
       "      <td>199633,http://www.kontra.ba,Arts\\n</td>\n",
       "    </tr>\n",
       "    <tr>\n",
       "      <th>1137675</th>\n",
       "      <td>1137676,http://www.fireborn.com/,Shopping\\n</td>\n",
       "    </tr>\n",
       "    <tr>\n",
       "      <th>211048</th>\n",
       "      <td>211049,http://www.davecrimmen.com/,Arts\\n</td>\n",
       "    </tr>\n",
       "    <tr>\n",
       "      <th>69430</th>\n",
       "      <td>69431,http://the_night_world.tripod.com/,Arts\\n</td>\n",
       "    </tr>\n",
       "    <tr>\n",
       "      <th>...</th>\n",
       "      <td>...</td>\n",
       "    </tr>\n",
       "    <tr>\n",
       "      <th>1277920</th>\n",
       "      <td>1277921,http://www.littlebluedog.com/outlines....</td>\n",
       "    </tr>\n",
       "    <tr>\n",
       "      <th>782735</th>\n",
       "      <td>782736,http://www.ericksonsoftware.com,Home\\n</td>\n",
       "    </tr>\n",
       "    <tr>\n",
       "      <th>1364051</th>\n",
       "      <td>1364052,http://www.swordsearcher.com/,Society\\n</td>\n",
       "    </tr>\n",
       "    <tr>\n",
       "      <th>936577</th>\n",
       "      <td>936578,http://baseportal.com/baseportal/basepo...</td>\n",
       "    </tr>\n",
       "    <tr>\n",
       "      <th>1362246</th>\n",
       "      <td>1362247,http://www.luther.de/e/index.html,Soci...</td>\n",
       "    </tr>\n",
       "  </tbody>\n",
       "</table>\n",
       "<p>300 rows × 1 columns</p>\n",
       "</div>"
      ],
      "text/plain": [
       "                                                         0\n",
       "1384232  1384233,http://members.tripod.com/rosaryarmy/i...\n",
       "199632                  199633,http://www.kontra.ba,Arts\\n\n",
       "1137675        1137676,http://www.fireborn.com/,Shopping\\n\n",
       "211048           211049,http://www.davecrimmen.com/,Arts\\n\n",
       "69430      69431,http://the_night_world.tripod.com/,Arts\\n\n",
       "...                                                    ...\n",
       "1277920  1277921,http://www.littlebluedog.com/outlines....\n",
       "782735       782736,http://www.ericksonsoftware.com,Home\\n\n",
       "1364051    1364052,http://www.swordsearcher.com/,Society\\n\n",
       "936577   936578,http://baseportal.com/baseportal/basepo...\n",
       "1362246  1362247,http://www.luther.de/e/index.html,Soci...\n",
       "\n",
       "[300 rows x 1 columns]"
      ]
     },
     "execution_count": 6,
     "metadata": {},
     "output_type": "execute_result"
    }
   ],
   "source": [
    "df.sample(300)"
   ]
  }
 ],
 "metadata": {
  "kernelspec": {
   "display_name": "Python 3",
   "language": "python",
   "name": "python3"
  },
  "language_info": {
   "codemirror_mode": {
    "name": "ipython",
    "version": 3
   },
   "file_extension": ".py",
   "mimetype": "text/x-python",
   "name": "python",
   "nbconvert_exporter": "python",
   "pygments_lexer": "ipython3",
   "version": "3.10.6"
  },
  "orig_nbformat": 4
 },
 "nbformat": 4,
 "nbformat_minor": 2
}
